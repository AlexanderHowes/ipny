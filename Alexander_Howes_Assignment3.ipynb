{
 "cells": [
  {
   "cell_type": "markdown",
   "id": "portuguese-studio",
   "metadata": {},
   "source": [
    "still very close to a unit disk. Hence linear analysis is valid on $\\Omega_t$ provided t $<<$ 1\n",
    "and and $\\Omega_t \\approx \\Omega_0$. Here $\\delta_t$ is a small time step.\n",
    "The steady state solution of (<font color='blue'>3.2<font color='black'>) is $a_s$ = 1, $\\textbf{u}_s$ = 0. We linearize the system of equations (<font color='blue'>3.2<font color='black'>) by considering the stability of the steady state to small perturbations $a$ = $a_s$ + $\\hat{a}$, and $\\mathbf{u}$ = $\\textbf{u}_s$ + $\\mathbf{\\hat{u}}$, where $\\hat{a}$ and $\\mathbf{\\hat{u}}$ are small variations from the steady state. Substituting these into the nonlinear system (<font color='blue'>3.2<font color='black'>) and neglecting all but the linear terms results in the following linear system of partial differential equations:"
   ]
  },
  {
   "cell_type": "markdown",
   "id": "fifth-divide",
   "metadata": {},
   "source": [
    "$$\\begin{cases}\n",
    "\\bigtriangledown \\cdot [ (\\mu_1 \\epsilon_t + \\mu_2 \\phi_t \\textbf{I}) + (\\epsilon + v' \\phi \\textbf{I}) + \\sigma' (1) a \\textbf{I} + p(1-\\phi)\\textbf{I} + p \\frac{2}{\\pi} \\delta (l) a \\textbf{I} ] = \\textbf{0} \\\\\n",
    "\\frac{\\delta a}{\\delta t}-d\\Delta a+ \\bigtriangledown \\cdot \\mathbf{\\beta}  + a\\ =0\n",
    "\\end{cases}$$"
   ]
  },
  {
   "cell_type": "markdown",
   "id": "discrete-winner",
   "metadata": {},
   "source": [
    "where $\\sigma'(1) = \\frac{\\delta \\sigma(a)}{\\delta a}|_{a=a_s}$.In the above equation, we have dropped the hats for the sake\n",
    "of notational convenience. We now look for solutions to these linearized equations in the form of"
   ]
  },
  {
   "cell_type": "markdown",
   "id": "ranking-connection",
   "metadata": {},
   "source": [
    "<div align=\"center\">$a(\\textbf{x},t) = a^{*}exp(\\lambda t + i\\textbf{k} \\cdot \\textbf{x})$ and $\\textbf{u}(\\textbf{x},t) = \\textbf{u}^{*}exp(\\lambda t + i\\textbf{k} \\cdot \\textbf{x})$"
   ]
  },
  {
   "cell_type": "markdown",
   "id": "boring-duration",
   "metadata": {},
   "source": [
    "where $\\lambda$ and $\\textbf{k}$ are respectively the growth rate (also known as an eigenvalue) and\n",
    "the wave vector and $a^{∗}$ and $\\textbf{u}^{∗}$ are constant. If we substitute (<font color='blue'>3.4<font color='black'>) into the linearized system (<font color='blue'>3.3<font color='black'>) and require the solution to be non-trivial, we obtain that (see for example <font color='blue'>Lewis and Murray 1991<font color='black'>),"
   ]
  },
  {
   "cell_type": "markdown",
   "id": "outdoor-offer",
   "metadata": {},
   "source": [
    "<div align=\"center\">$\\begin{vmatrix}\n",
    "\\lambda+dk^{2}+1 & \\lambda ik\\\\\n",
    "-ik\\sigma '(1)-ikp\\frac{2}{\\pi}\\delta(l) & \\mu k^{2}\\lambda + k^{2}(1+v') - pk^{2} \n",
    "\\end{vmatrix}$ = $\\textbf{0}$"
   ]
  },
  {
   "cell_type": "markdown",
   "id": "breathing-motion",
   "metadata": {},
   "source": [
    "where $\\mu = \\mu_1 + \\mu_2$ and $k = |\\textbf{k}|$. The eigenvalues, $\\lambda$ are solutions of the polynomial\n",
    "in $\\lambda$ given by the determinant of the matrix in (<font color='blue'>3.5<font color='black'>) and is given by"
   ]
  },
  {
   "cell_type": "markdown",
   "id": "alleged-demographic",
   "metadata": {},
   "source": [
    "<div align=\"center\">$k^{2}[\\mu \\lambda^{2} + b(k^{2})\\lambda + c(k^{2})]$=0,"
   ]
  },
  {
   "cell_type": "markdown",
   "id": "unlimited-accommodation",
   "metadata": {},
   "source": [
    "where $b(k^{2}) = \\mu dk^{2} + [1+v'+\\mu-\\sigma'(1)-p-\\frac{2}{\\pi}p\\delta(l)],$"
   ]
  },
  {
   "cell_type": "markdown",
   "id": "agricultural-encounter",
   "metadata": {},
   "source": [
    "and $c(k^{2}) = d[1 + ν' − p]k^{2} + [1 + ν' − p]$."
   ]
  },
  {
   "cell_type": "markdown",
   "id": "enabling-assurance",
   "metadata": {},
   "source": [
    "Solving (<font color='blue'>3.6<font color='black'>) results in the dispersion relation"
   ]
  },
  {
   "cell_type": "markdown",
   "id": "impressed-environment",
   "metadata": {},
   "source": [
    "<div align=\"center\">$\\lambda(k^{2})\\frac{-bk^{2}\\pm \\sqrt{b^{2}(k^{2})-4\\mu k^{2}c(k^{2})}}{2\\mu k^{2}}$"
   ]
  },
  {
   "cell_type": "markdown",
   "id": "minus-fundamentals",
   "metadata": {},
   "source": [
    "From the polynomial expression given in (<font color='blue'>3.6<font color='black'>), it is obvious that the dispersion relation is indeterminate when $k^2$ = 0. Thus in the linear stability analysis we shall only consider $k^2$> 0. Instability will occur for some wavenumber $k^2$ > 0 if the corresponding $\\lambda(k^2)$ has $Re(\\lambda)$ > 0. Below we use Routh–Hurwitz stability criterion (<font color='blue'>Edelstein Keshet 2005<font color='black'>) to determine a sufficient condition on the coefficients of the polynomial"
   ]
  },
  {
   "cell_type": "markdown",
   "id": "collaborative-needle",
   "metadata": {},
   "source": [
    "| Possible conditions ($k^{2} \\neq$ 0) | Types of mode | Sign of $Re(λ)$| \n",
    "| --- | --- | --- |\n",
    "| $b(k^2) >$ 0 and $c(k^2) >$ 0 | Stable modes for all $k^2$ > 0 | Negative |\n",
    "| $b(k^2) >$ 0 and $c(k^2) <$ 0 | Unstable modes will exist | Positive |\n",
    "| $b(k^2) <$ 0 and $c(k^2) >$ 0 | Unstable modes will exist | Positive |\n",
    "| $b(k^2) <$ 0 and $c(k^2) <$ 0 | Unstable modes will exist | Positive |\n"
   ]
  },
  {
   "cell_type": "markdown",
   "id": "widespread-superintendent",
   "metadata": {},
   "source": [
    "(<font color='blue'>3.6<font color='black'>) that would result in $Re λ(k^2)$ > 0 for some $k2 >$ 0. A solution with $Re λ(k^2)$ > 0 for some $k^2$ > 0 can exist if $b(k^2) <$ 0 or $c(k^2) <$ 0 or both (see Table 3).\n",
    "Observe that $c(k^2)$ can either be positive or negative for all values of $k^2 >$ 0 depending on the value of $p$. In particular, if $p > 1 + ν'$ then $c(k^2)$ is negative for all values of $k^2 >$ 0. $b(k^2)$ can take positive or negative values for some or all of $k2 >$ 0 and this depends on how small or large $p$ and $σ'(1)$ are when compared with the other parameters in $b(k^2)$. Therefore instability can occur for some $k^2 >$ 0 if one of the following conditions is satisfied:"
   ]
  },
  {
   "cell_type": "markdown",
   "id": "moved-tumor",
   "metadata": {},
   "source": [
    "1. $b(k^2) >$ 0 and $c(k^2) <$ 0 or\n",
    "2. $b(k^2) <$ 0 and $c(k^2) >$ 0 or\n",
    "3. $b(k^2) <$ 0 and $c(k^2) <$ 0 (see Table 3 for more detail)."
   ]
  },
  {
   "cell_type": "markdown",
   "id": "coordinated-raleigh",
   "metadata": {},
   "source": [
    "Condition 1 and 3 above will have $c(k^2) <$ 0 for all $k^2 >$ 0. And the dispersion relation will have an infinite range of unstable modes. Condition 2 can have a dispersion\n",
    "relation with a finite range of unstable modes and shall be used in carrying out the\n",
    "linear stability analysis. We now analyse $b(k^2) <$ 0 in detail. We have that\n"
   ]
  },
  {
   "cell_type": "markdown",
   "id": "lesser-textbook",
   "metadata": {},
   "source": [
    "<div align=\"center\">$b(k^2) = μdk^2 + [1 + ν' + μ − σ'(1) − p − 2πpδ(l)] := μdk^2 + G < 0$"
   ]
  },
  {
   "cell_type": "markdown",
   "id": "talented-jungle",
   "metadata": {},
   "source": [
    "where $G := [1 + ν' + μ − σ'(1) − p − 2π pδ(l)].$ Observe that $b(k^2)$ is less than\n",
    "zero for some $k2$ if $G$ takes negative values and $μdk^2 < |G|$. Sufficient conditions for\n",
    "$b(k^2)$ to take negative values for some $k^2 > 0$ are:"
   ]
  },
  {
   "cell_type": "markdown",
   "id": "steady-dialogue",
   "metadata": {},
   "source": [
    "(a) $G = 1 + ν' + μ − σ'(1) − p − \\frac{2}{\\pi}pδ(l) < 0,$\n",
    "\n",
    "(b) $μdk^2 < |G| = |1 + ν' + μ − σ'(1) − p − \\frac{2}{\\pi} pδ(l)| ,$\n",
    "\n",
    "(c) $k^{2}_{crit} ≥ k^{2}_{1},$"
   ]
  },
  {
   "cell_type": "markdown",
   "id": "protecting-stanford",
   "metadata": {},
   "source": [
    "where $k^{2}_{crit} = |G|/μd $is the value of $k^2$ for which $b(k^2)$ is zero and $k^2$\n",
    "1 is the first\n",
    "positive wavenumber. The last condition enforces that $b(k^2)$ is negative for at least\n",
    "the first wavenumber, $k^2_1$\n",
    ". From conditions 1 and 2 above, we require $p$ or $σ'\n",
    "(1)$ to be\n",
    "sufficiently large in order for $b(k^2) <$ 0 to exist for some $k2 >$ 0, where"
   ]
  },
  {
   "cell_type": "markdown",
   "id": "ancient-consumer",
   "metadata": {},
   "source": [
    "<div align=\"center\">$σ'(1):=\\frac{δσ'(a)}{δa}|_{a=1} = \\psi[-\\frac{1}{a_{sat}}e^{-\\frac{1}{a_{sat}}}+2e^{-\\frac{1}{a_{sat}}}]$."
   ]
  },
  {
   "cell_type": "markdown",
   "id": "applicable-score",
   "metadata": {},
   "source": [
    "From (<font color='blue'>3.6<font color='black'>), we see that $σ'\n",
    "(1)$ is dependent on asat and also proportional to $ψ$ (see\n",
    "Fig. 3). In particular, if $a_{sat}$ = 0.5 then $σ'\n",
    "(1)$ = 0 and if 0 $< a_{sat} <$ 0.5 then"
   ]
  }
 ],
 "metadata": {
  "kernelspec": {
   "display_name": "Python 3",
   "language": "python",
   "name": "python3"
  },
  "language_info": {
   "codemirror_mode": {
    "name": "ipython",
    "version": 3
   },
   "file_extension": ".py",
   "mimetype": "text/x-python",
   "name": "python",
   "nbconvert_exporter": "python",
   "pygments_lexer": "ipython3",
   "version": "3.9.1"
  }
 },
 "nbformat": 4,
 "nbformat_minor": 5
}
