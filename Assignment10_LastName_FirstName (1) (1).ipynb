{
 "cells": [
  {
   "cell_type": "markdown",
   "metadata": {},
   "source": [
    "## Assignment10_LastName_FirstName \n",
    "## Due date: Friday, April 2 at 11:59pm\n",
    "\n",
    "###  Use the following format for homework filename:  \n",
    "\n",
    "`Assignment10_LastName_FirstName.ipynb`\n",
    "\n",
    "\n",
    "#### - This assignment is worth 27 points."
   ]
  },
  {
   "cell_type": "code",
   "execution_count": 1,
   "metadata": {},
   "outputs": [],
   "source": [
    "import numpy as np\n",
    "import matplotlib.pyplot as plt\n",
    "from sympy import *    \n",
    "import math"
   ]
  },
  {
   "cell_type": "markdown",
   "metadata": {},
   "source": [
    "**Problem 1** (7 pts): There are many methods for finding numerical solutions to differential equations of the form $y'=f(x,y)$, an example is the following formula:\n",
    "$$y_{n+1} = y_n + \\frac{1}{6}(k_1 +2k_2+2k_3+k_4)$$\n",
    "where \n",
    "\\begin{align}\n",
    "k_1 &= hf(x_n,y_n)\\\\\n",
    "k_2 &= hf(x_n+ 0.5h,y_n+0.5k_1)\\\\\n",
    "k_3 &=hf(x_n+0.5h,y_n+0.5k_2)\\\\\n",
    "k_4 &= hf(x_n+h,y_n+k_3)\n",
    "\\end{align}\n",
    "\n",
    "You are advised to look carefully at the formula; note that $k_2$ depends on $k_1$, $k_3$ depends on $k_2$, and $k_4$ depends on $k_3$. The program you implement in part (a) will use the formula above to compute the approximate solution of the differential equation $y'=2xy$.\n",
    "\n",
    "\n",
    "(a) The value of $x_n$ for $n=0 \\cdots 5$ is given in the table below:\n",
    "\n",
    "| $x_0$  |  $x_1$ |  $x_2$ |  $x_3$|  $x_4$  |  $x_5$ |\n",
    "| ------------- | ------------- | ------------- | ------------- | ------------- | ------------- |\n",
    " | 1 | 1.1 | 1.2| 1.3  | 1.4 | 1.5 |\n",
    " \n",
    "Suppose that $y_0=1$, $h=0.1$, $f(x,y) = 2xy$, write a program to compute the value of $y_n$ for $n=0 \\cdots 5$. Use the formula for $y_{n+1}$ above. Observe that the formula for $y_{n+1}$ is a recursive relation.\n",
    "\n",
    "\n",
    "(b) The global truncation error for the formula above is:\n",
    "\n",
    "$$ \\text{error} = Y^{(5)}(c)\\frac{h^5}{5!},$$\n",
    "where $Y(x) = e^{x^2-1}$  is the exact solution of the differential equation $y'=2xy$ with the conditions specified above. \n",
    "\n",
    "Calculate the global truncation error for the method. Use $h=0.1$ and $c=1.3$. Note  that $Y^{(5)}$ represents the fifth derivative of $Y(x)$. You must show work to receive credit.\n",
    "\n",
    "(c) Compare the exact solution $Y(x) = e^{x^2-1}$ at $x=x_n$ for $n=0 \\cdots 5$ to your computed solution from part (a) by plotting both on the same graph. Describe your observation(s). "
   ]
  },
  {
   "cell_type": "code",
   "execution_count": 2,
   "metadata": {},
   "outputs": [],
   "source": [
    "# present your code for problem 1\n",
    "def f1(x,y):\n",
    "    return 2*x*y\n",
    "\n",
    "x = [1,1.1,1.2,1.3,1.4,1.5]\n",
    "h = .1\n",
    "y = [1]\n",
    "for i in range(5):\n",
    "    k1 = h*f1(x[i],y[i])\n",
    "    k2 = h*f1(x[i]+.5*h,y[i]+.5*k1)\n",
    "    k3 = h*f1(x[i]+.5*h,y[i]+.5*k2)\n",
    "    k4 = h*f1(x[i]+h,y[i]+k3)\n",
    "    yn = y[i]+(k1+2*k2+2*k3+k4)/6\n",
    "    y.append(yn)"
   ]
  },
  {
   "cell_type": "code",
   "execution_count": 3,
   "metadata": {},
   "outputs": [
    {
     "name": "stdout",
     "output_type": "stream",
     "text": [
      "[1, 1.1, 1.2, 1.3, 1.4, 1.5]\n",
      "[1, 1.23367435, 1.5526953980477614, 1.9936867693499598, 2.611633233219414, 3.4902106363729497]\n"
     ]
    }
   ],
   "source": [
    "print(x)\n",
    "print(y)"
   ]
  },
  {
   "cell_type": "markdown",
   "metadata": {},
   "source": [
    "1 derivative of $e^{x^2-1}$: $2xe^{x^2-1}$\n",
    "\n",
    "2 derivative of $2xe^{x^2-1}$: $e^{x^2-1}(4x^2+2)$\n",
    "\n",
    "3 derivative of $e^{x^2-1}(4x^2+2)$: $4e^{x^2-1}x(2x^2+3)$\n",
    "\n",
    "4 derivative of $4e^{x^2-1}x(2x^2+3)$ : $4e^{x^2-1}(4x^4+12x^2+3)$\n",
    "\n",
    "5 derivative of $4e^{x^2-1}(4x^4+12x^2+3)$: $8e^{x^2-1}x(4x^4+20x^2+15)$"
   ]
  },
  {
   "cell_type": "code",
   "execution_count": 4,
   "metadata": {},
   "outputs": [
    {
     "name": "stdout",
     "output_type": "stream",
     "text": [
      "[1, 3.3800000000000015e-05, 5.2991121174072066e-05, 8.412284496097764e-05, 0.0001352792291832091, 0.0002204460701458069]\n"
     ]
    }
   ],
   "source": [
    "def f2(x):\n",
    "    return (8*np.exp((x**2)-1)*(4*(x**5)+20*(x**3)+15*x))\n",
    "\n",
    "c=1.3\n",
    "y2 = [1]\n",
    "for i in range(5):\n",
    "    yn = (f2(x[i])*c*(h**5))/120\n",
    "    y2.append(yn)\n",
    "print(y2)"
   ]
  },
  {
   "cell_type": "code",
   "execution_count": 5,
   "metadata": {},
   "outputs": [
    {
     "data": {
      "text/plain": [
       "[<matplotlib.lines.Line2D at 0x1e10e1f4d30>]"
      ]
     },
     "execution_count": 5,
     "metadata": {},
     "output_type": "execute_result"
    },
    {
     "data": {
      "image/png": "[encoded data removed]",
      "text/plain": [
       "<Figure size 432x288 with 1 Axes>"
      ]
     },
     "metadata": {
      "needs_background": "light"
     },
     "output_type": "display_data"
    }
   ],
   "source": [
    "plt.plot(x,y)\n",
    "plt.plot(x,y2)"
   ]
  },
  {
   "cell_type": "markdown",
   "metadata": {},
   "source": [
    "**NOTE:** The following lines of code demonstrates how to use python and find the first and fifth derivative of a function $ y = e^{2x}$:"
   ]
  },
  {
   "cell_type": "markdown",
   "metadata": {},
   "source": [
    "**Problem 2** (4 pts)\n",
    "Write a program to calculate the combinations $C(n,k)$ without using any factorial, where \n",
    "$$C(n,k) = \\begin{pmatrix} n \\\\ k\\end{pmatrix} := \\frac{n!}{k!(n-k)!}.\n",
    "$$\n",
    "Use a `for` loop, assume $n\\ge k \\ge 0$ are integers. "
   ]
  },
  {
   "cell_type": "code",
   "execution_count": 6,
   "metadata": {},
   "outputs": [],
   "source": [
    "# present your code for problem 2\n",
    "def combinations(n,k):\n",
    "    num=1\n",
    "    den=1\n",
    "    for i in range(1,n+1):\n",
    "        num = num*i\n",
    "        if i<=k:\n",
    "            den = den*i\n",
    "        if i<=(n-k):\n",
    "            den = den*i\n",
    "    return num/den"
   ]
  },
  {
   "cell_type": "markdown",
   "metadata": {},
   "source": [
    "**Problem 3** (5 pts): Using the Secant Method, for $A>0$, \n",
    "\n",
    "(a) (4 pts) Write a program which finds $A^{1/m}$ for any positive value $m$.  Note, you need to choose a function $f(x)$ for the Secant Method whose root is $A^{1/m}$.  \n",
    "\n",
    "(b) (1 pts) How does your choice of $m$ affect how many iterations your program takes to converge for a given tolerance choice?  Plots will help me to understand your thinking here.  "
   ]
  },
  {
   "cell_type": "code",
   "execution_count": 7,
   "metadata": {},
   "outputs": [
    {
     "name": "stdout",
     "output_type": "stream",
     "text": [
      "No roots in the interval\n"
     ]
    }
   ],
   "source": [
    "# present your code for problem 3a\n",
    "#x^m -a\n",
    "def function(x):\n",
    "    m=2\n",
    "    a=5\n",
    "    return (x**m)-a\n",
    "def secant(x1, x2, e, f):\n",
    "    n = xm = x0 = c = 0\n",
    "    if (f(x1) * f(x2) < 0):\n",
    "        while True:\n",
    "            x0 = ((x1 * f(x2) - x2 * f(x1)) / (f(x2) - f(x1)))\n",
    "            c = f(x1) * f(x0)\n",
    "            x1 = x2\n",
    "            x2 = x0\n",
    "            n += 1\n",
    "            if (c == 0):\n",
    "                break\n",
    "            xm = ((x1 * f(x2) - x2 * f(x1)) / (f(x2) - f(x1))) \n",
    "            if(abs(xm - x0) < e):\n",
    "                break\n",
    "        print(x0) \n",
    "    else:\n",
    "        print(\"No roots in the interval\")\n",
    "A = 5\n",
    "m = 5\n",
    "secant(-25,25,.01,function)"
   ]
  },
  {
   "cell_type": "code",
   "execution_count": 8,
   "metadata": {},
   "outputs": [],
   "source": [
    "# present your code for problem 3b"
   ]
  },
  {
   "cell_type": "markdown",
   "metadata": {},
   "source": [
    "**Problem 4** (6pts)\n",
    "\n",
    "[a.] Write a program to graph the *epitrochoid* curve with parametric equations\n",
    "\n",
    "$$\n",
    "x = 11 \\cos(t) - 4 \\cos \\left( \\frac{11t}{2} \\right) \\quad \\text{ and } \\quad y = 11 \\sin(t) - 4 \\sin\\left( \\frac{11t}{2} \\right).\n",
    "$$\n",
    "\n",
    "Generate the plot over the interval $-2\\pi \\leq t \\leq 2\\pi$.\n",
    "\n",
    "[b.] If a curve $C$ is described by the parametric equations \n",
    "\n",
    "$$\n",
    "x=f(t), ~y=g(t), ~\\alpha \\leq t \\leq \\beta,\n",
    "$$\n",
    "\n",
    "where $f'$ and $g'$ are continuous on $[\\alpha, \\beta]$ and $C$ is traversed exactly once as $t$ increases from $\\alpha$ to $\\beta$, then the length of $C$ is\n",
    "\n",
    "$$\n",
    "L = \\int_{\\alpha}^{\\beta} \\sqrt{\\left( \\frac{dx}{dt} \\right)^2 + \\left( \\frac{dy}{dt} \\right)^2} ~ dt\n",
    "$$\n",
    "\n",
    "\n",
    "Use the Simpson’s Method with a number of interval $N = 10$ to estimate the length of the curve in part (a)."
   ]
  },
  {
   "cell_type": "code",
   "execution_count": 9,
   "metadata": {},
   "outputs": [
    {
     "data": {
      "image/png": "[encoded data removed]",
      "text/plain": [
       "<Figure size 432x288 with 1 Axes>"
      ]
     },
     "metadata": {
      "needs_background": "light"
     },
     "output_type": "display_data"
    },
    {
     "data": {
      "text/plain": [
       "<sympy.plotting.plot.Plot at 0x1e10e218eb0>"
      ]
     },
     "execution_count": 9,
     "metadata": {},
     "output_type": "execute_result"
    }
   ],
   "source": [
    "#problem 4a\n",
    "t = symbols('t')\n",
    "x4 = 11*cos(t)-4*cos(11*t/2)\n",
    "y4 = 11*sin(t)-4*sin(11*t/2)\n",
    "plot_parametric(x4, y4, (t, -2*pi, 2*pi))"
   ]
  },
  {
   "cell_type": "markdown",
   "metadata": {},
   "source": [
    "**Problem 5** (5pts)\n",
    "\n",
    "An automobile of mass $M = 4500$ kg is moving at a speed of $35$ m/s. The engine is disengaged suddenly at $t=0$ sec. Assume that the equation of motion after $t=0$ is given by\n",
    "\n",
    "$$\n",
    "4500 v \\frac{dv}{dx} = -8.276v^2 -2000\n",
    "$$\n",
    "\n",
    "where $v=v(t)$ is the speed (m/sec) of the car at $t$. The left side represents $Mv~(dv/dx)$. The first term on the right is the aerodynamic drag, and the second term is the rolling resistance of the tires. Calculate how far the car travels until the speed reduces to $15$ m/sec. (Hint: The equation of motion may be integrated as:\n",
    "\n",
    "$$\n",
    "\\int_{15}^{35} \\frac{4500 v}{8.276v^2 +2000}\\ dv = \\int dx = x\n",
    "$$\n",
    "\n",
    "Evaluate the equation above using the Trapezoid Method."
   ]
  },
  {
   "cell_type": "code",
   "execution_count": 10,
   "metadata": {},
   "outputs": [
    {
     "data": {
      "text/plain": [
       "311.3292562109126"
      ]
     },
     "execution_count": 10,
     "metadata": {},
     "output_type": "execute_result"
    }
   ],
   "source": [
    "#Problem 5\n",
    "def m(v):\n",
    "    return (4500*v)/(8.276*(v**2)+2000)\n",
    "def trap(f, a, b, n):\n",
    "    h = float(b - a) / n\n",
    "    s = 0.0\n",
    "    s += f(a)/2.0\n",
    "    for i in range(1, n):\n",
    "        s += f(a + i*h)\n",
    "    s += f(b)/2.0\n",
    "    return s * h\n",
    "trap(m,15,35,10000)"
   ]
  }
 ],
 "metadata": {
  "kernelspec": {
   "display_name": "Python 3",
   "language": "python",
   "name": "python3"
  },
  "language_info": {
   "codemirror_mode": {
    "name": "ipython",
    "version": 3
   },
   "file_extension": ".py",
   "mimetype": "text/x-python",
   "name": "python",
   "nbconvert_exporter": "python",
   "pygments_lexer": "ipython3",
   "version": "3.9.1"
  }
 },
 "nbformat": 4,
 "nbformat_minor": 2
}
