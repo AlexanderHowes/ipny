{
 "cells": [
  {
   "cell_type": "markdown",
   "metadata": {},
   "source": [
    "## Assignment5_LastName_FirstName\n",
    " \n",
    "## Due date: Friday, February 19 at 11:59pm in Canvas\n",
    "\n",
    "###  Use the following format for homework filename: \n",
    "`Assignment5_LastName_FirstName.ipynb`\n",
    "\n",
    "#### This assignment is worth 25 points."
   ]
  },
  {
   "cell_type": "markdown",
   "metadata": {},
   "source": [
    "**Problem 1** - (10 points): Find a relationship between the given coefficients.  By this we mean for example that if \n",
    "\n",
    "$$\n",
    "a_{j} = \\frac{1}{j!}, ~ j\\geq 0,\n",
    "$$\n",
    "\n",
    "then we have \n",
    "\n",
    "$$\n",
    "a_{j} = \\left\\{\\begin{array}{rl}  \n",
    "\\frac{a_{j-1}}{j}, & j\\geq 1, \\\\ \n",
    "1, & j=0.\n",
    "\\end{array}\\right.\n",
    "$$\n",
    "\n",
    "Note, the way to figure this out is to use the fact that if $a_{j} = 1/j!$ and $a_{j-1} = 1/(j-1)!$, then we can find the ratio of terms to be \n",
    "\n",
    "$$\n",
    "\\frac{a_{j}}{a_{j-1}} = \\frac{(j-1)!}{j!} = \\frac{1}{j}.\n",
    "$$\n",
    "Complete problem 1(a)-(e)"
   ]
  },
  {
   "cell_type": "markdown",
   "metadata": {},
   "source": [
    "\n",
    "1a. \n",
    "$$\n",
    "a_{j} = \\frac{1}{(j+1)!}, ~ j\\geq 0.\n",
    "$$\n",
    "\n",
    "\n",
    "1b. \n",
    "$$\n",
    "a_{j} = \\frac{9^{j}}{(2j+1)!}, ~ j\\geq 0.\n",
    "$$\n",
    "\n",
    "1c. \n",
    "$$\n",
    "a_{j}(x) = \\frac{x^{j}}{j!}, ~ j\\geq 0.\n",
    "$$\n",
    "\n",
    "1d.\n",
    "$$\n",
    "a_{j}(x) = \\frac{(-1)^{j} x^{2j}}{(2j)!}\n",
    "$$\n",
    "\n",
    "1e. For $n$ a positive integer\n",
    "$$\n",
    "a_{j}(x) = \\frac{1}{j!(n+j)!}\\left(\\frac{x}{2}\\right)^{2j}, ~ j\\geq 0.\n",
    "$$"
   ]
  },
  {
   "cell_type": "markdown",
   "metadata": {},
   "source": [
    "$a_j = $$$\\begin{cases}\n",
    "1, j=0\\\\\n",
    "\\frac{1}{j+1}, j>0\n",
    "\\end{cases}$$"
   ]
  },
  {
   "cell_type": "markdown",
   "metadata": {},
   "source": [
    "$a_j = $$$\\begin{cases}\n",
    "\\frac{1}{3}, j=0\\\\\n",
    "\\frac{9}{(2j)(2j+1)}, j>0\n",
    "\\end{cases}$$"
   ]
  },
  {
   "cell_type": "markdown",
   "metadata": {},
   "source": [
    "$a_j = $$$\\begin{cases}\n",
    "1, j=0\\\\\n",
    "\\frac{x}{j}, j>0\n",
    "\\end{cases}$$"
   ]
  },
  {
   "cell_type": "markdown",
   "metadata": {},
   "source": [
    "$a_j = $$$\\begin{cases}\n",
    "0, j=0\\\\\n",
    "\\frac{-x}{2j+1}, j>0\n",
    "\\end{cases}$$"
   ]
  },
  {
   "cell_type": "markdown",
   "metadata": {},
   "source": [
    "$a_j = $$$\\begin{cases}\n",
    "0, j=0\\\\\n",
    "\\frac{(\\frac{x}{2})}{jn+j^2}, j>0\n",
    "\\end{cases}$$"
   ]
  },
  {
   "cell_type": "markdown",
   "metadata": {},
   "source": [
    "**Problem 2** - (5 points) each: Using the Taylor series, prove the identities.  For example, given that\n",
    "\n",
    "$$\n",
    "e^{x} = \\sum_{j=0}^{\\infty} \\frac{x^{j}}{j!}\n",
    "$$\n",
    "\n",
    "we can show that \n",
    "\n",
    "$$\n",
    "\\frac{d}{dx}e^{x} = e^{x}\n",
    "$$\n",
    "\n",
    "by seeing that \n",
    "\n",
    "\\begin{align}\n",
    "\\frac{d}{dx}e^{x} = & \\sum_{j=0}^{\\infty} \\frac{d}{dx} \\frac{x^{j}}{j!}\\\\\n",
    "= & \\sum_{j=1}^{\\infty} j\\frac{x^{j-1}}{j!}\\\\\n",
    "= & \\sum_{j=1}^{\\infty} \\frac{x^{j-1}}{(j-1)!}\\\\\n",
    "= & \\sum_{k=0}^{\\infty} \\frac{x^{k}}{k!}, ~ k = j-1\\\\\n",
    "= & e^{x}.\n",
    "\\end{align}\n",
    "\n",
    "Use the TeX provided in the problem statement to help provide the relevant details of your computations.  \n",
    "\n",
    "2a.  Using\n",
    "    $$\n",
    "    \\cos(x) = \\sum_{j=0}^{\\infty}\\frac{(-1)^{j}x^{2j}}{(2j)!}, ~ \\sin(x) = \\sum_{j=0}^{\\infty}\\frac{(-1)^{j}x^{2j+1}}{(2j+1)!}\n",
    "    $$\n",
    "    show that\n",
    "    $$\n",
    "    \\frac{d}{dx}\\cos(x) = -\\sin(x).\n",
    "    $$\n",
    "    \n",
    "2b. Using,\n",
    "    $$\n",
    "    \\frac{1}{1-t} = \\sum_{j=0}^{\\infty}t^{j}, ~ ~ |t|<1 ~ \\text{and} ~\n",
    "    \\ln(1+x) = \\int_{0}^{x}\\frac{dt}{1+t}, ~ ~ x \\in (-1,\\infty)\n",
    "    $$\n",
    "    show  that\n",
    "    $$\n",
    "    \\ln(1+x) = \\sum_{j=1}^{\\infty}(-1)^{j-1}\\frac{x^{j}}{j}.\n",
    "    $$\n",
    "    Remember, when we have convergence, we have \n",
    "    $$\n",
    "    \\int_{0}^{x} \\sum_{j=0}^{\\infty} f_{j}(t) dt = \\sum_{j=0}^{\\infty} \\int_{0}^{x} f_{j}(t)dt.\n",
    "    $$\n",
    "    "
   ]
  },
  {
   "cell_type": "markdown",
   "metadata": {},
   "source": [
    "$$\n",
    "cos(x) = \\sum_{j=0}^{\\infty} \\frac{(-1)^{j}x^{2j}}{(2j)!},\n",
    "$$\n",
    "$$\n",
    "= 1 + \\sum_{j=0}^{\\infty} \\frac{(-1)^{j+1}x^{2j+2}}{(2j+2)!},\n",
    "$$\n",
    "$$\n",
    "cos'(x)= 0 + \\sum_{j=0}^{\\infty} \\frac{(-1)^{j+1}x^{2j+1}}{(2j+1)!},\n",
    "$$\n",
    "therefore cos'(x)=sin(x)"
   ]
  },
  {
   "cell_type": "markdown",
   "metadata": {},
   "source": [
    "**Problem 3**: - 2 pts: - The Maclaurin series for $\\sin{x}$ is, \n",
    "\n",
    "$$\n",
    "\\sin(x) = \\sum_{j=0}^{\\infty}\\frac{(-1)^{j}}{(2j + 1)!}x^{2j +1}\n",
    "$$\n",
    "\n",
    "Using the Maclaurin series for $\\sin{x}$, find the Maclaurin series for  $\\sin(x^{2})$. Write your answer in  LaTeX."
   ]
  },
  {
   "cell_type": "markdown",
   "metadata": {},
   "source": [
    "$$\n",
    "sin(x^2)$ = \\sum_{j=0}^{\\infty} \\frac{x^{4n+2}}{(2n+1)!}(-1)^n\n",
    "$$"
   ]
  },
  {
   "cell_type": "markdown",
   "metadata": {},
   "source": [
    "**Problem 4** - (8 points)\n",
    "\n",
    "Given the following Maclaurin series approximation:\n",
    "$$\n",
    "\\sin(x) = \\sum_{j=0}^{\\infty}\\frac{(-1)^{j}}{(2j + 1)!}x^{2j +1}\n",
    "$$\n",
    "\n",
    "[2a.] Derive a Taylor series for $\\sin(x^{3})$ around $x=0$ and find the **recurrence relationship** between the terms.\n",
    "\n",
    "[2b.] Write a code which computes the Taylor series of $\\sin(x^{3})$ using **recursion and a tolerance based while loop** approach.\n",
    "\n",
    "[2c.] On the interval $[0,\\pi]$, plot the **semi-log error** in your approximation for tolerance values $10^{-4}$, $10^{-6}$, and $10^{-8}$. \n",
    "\n",
    "[2d.] Describe your graphs and comment on any trends you observe."
   ]
  },
  {
   "cell_type": "markdown",
   "metadata": {},
   "source": [
    "4a:\n",
    "$$\n",
    "sin(x^3)$ = \\sum_{j=0}^{\\infty} \\frac{(-1)^{j}}{2j(2j+1)}\n",
    "$$\n",
    "$$\\begin{cases}\n",
    "x, j=0\\\\\n",
    "\\frac{x^{6}a_{j-1}}{(2j+1)!}, j>0\n",
    "\\end{cases}$$"
   ]
  },
  {
   "cell_type": "code",
   "execution_count": 1,
   "metadata": {},
   "outputs": [],
   "source": [
    "#4b:\n",
    "import numpy as np\n",
    "def sin_of_cube(x,t_1):\n",
    "    t_2 = x**3\n",
    "    aj = x**3\n",
    "    j = 1\n",
    "    while np.abs(aj)>=t_1:\n",
    "        aj *= -1 * x**6 / (4*(j**2)+j*2)\n",
    "        t_2 += aj\n",
    "        j += 1\n",
    "    return t_2"
   ]
  },
  {
   "cell_type": "code",
   "execution_count": 2,
   "metadata": {},
   "outputs": [
    {
     "data": {
      "text/plain": [
       "Text(0, 0.5, 'Error')"
      ]
     },
     "execution_count": 2,
     "metadata": {},
     "output_type": "execute_result"
    },
    {
     "data": {
      "image/png": "[encoded data removed]",
      "text/plain": [
       "<Figure size 432x288 with 1 Axes>"
      ]
     },
     "metadata": {
      "needs_background": "light"
     },
     "output_type": "display_data"
    }
   ],
   "source": [
    "#4c:\n",
    "import matplotlib.pyplot as plt\n",
    "xs = np.linspace(0, np.pi, 500)\n",
    "y1 = np.sin(xs**3)\n",
    "y2 = [sin_of_cube(i,1e-4) for i in xs]\n",
    "y3 = [sin_of_cube(i,1e-6) for i in xs]\n",
    "y4 = [sin_of_cube(i,1e-8) for i in xs]\n",
    "\n",
    "e1 = np.abs(y1-y2)\n",
    "e2 = np.abs(y1-y3)\n",
    "e3 = np.abs(y1-y4)\n",
    "\n",
    "plt.plot(xs,e1,color = 'b')\n",
    "plt.plot(xs,e2,color = 'r')\n",
    "plt.plot(xs,e3,color = 'g')\n",
    "\n",
    "plt.yscale('log')\n",
    "\n",
    "plt.xlabel('x')\n",
    "plt.ylabel('Error')\n"
   ]
  },
  {
   "cell_type": "markdown",
   "metadata": {},
   "source": [
    "4d: 4c this doesnt work with using e = np.log(np.abs(y-y)) not sure why unfortunatley. It throws a divide by 0 error and the plot is undefinded."
   ]
  }
 ],
 "metadata": {
  "kernelspec": {
   "display_name": "Python 3",
   "language": "python",
   "name": "python3"
  },
  "language_info": {
   "codemirror_mode": {
    "name": "ipython",
    "version": 3
   },
   "file_extension": ".py",
   "mimetype": "text/x-python",
   "name": "python",
   "nbconvert_exporter": "python",
   "pygments_lexer": "ipython3",
   "version": "3.9.1"
  }
 },
 "nbformat": 4,
 "nbformat_minor": 2
}
