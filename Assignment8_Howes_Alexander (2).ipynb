{
 "cells": [
  {
   "cell_type": "markdown",
   "metadata": {},
   "source": [
    "## Assignment8_LastName_FirstName \n",
    "## Due date: Friday, March 19 at 11:59pm\n",
    "\n",
    "###  Use the following format for homework filename:  \n",
    "\n",
    "`Assignment8_LastName_FirstName.ipynb`\n",
    "\n",
    "#### - This assignment is worth 25 points."
   ]
  },
  {
   "cell_type": "code",
   "execution_count": 1,
   "metadata": {},
   "outputs": [],
   "source": [
    "import numpy as np\n",
    "import matplotlib.pyplot as plt\n",
    "import random\n",
    "%matplotlib inline"
   ]
  },
  {
   "cell_type": "markdown",
   "metadata": {},
   "source": [
    "**Problem 2 (6 points)**\n",
    "\n",
    "The $3n+1$ sequence is generated using the following rules:\n",
    "\n",
    "- Start with a positive integer n.\n",
    "\n",
    "- If n = 1, stop.\n",
    "\n",
    "- If n is even, replace it with n/2.\n",
    "\n",
    "- If n is odd, replace it with 3n+1.\n",
    "\n",
    "So if we started with $n=3$, then we would generate the sequence\n",
    "\n",
    "$$\n",
    "3, 10, 5, 16, 8, 4, 2, 1\n",
    "$$\n",
    "\n",
    "The unsolved mathematical problem is whether this code can run forever i.e. it is unknown whether there are any starting values $n$ which generate a sequence which goes on for forever.  Thus, an interesting associated quantity we would want to know is how many terms a given value of $n$ generates via the $3n+1$ sequence.  We call this number $L(n)$.  For example then, using our example of $n=3$ above, we have that \n",
    "\n",
    "$$\n",
    "L(3)  = 8\n",
    "$$\n",
    "\n",
    "Write a program to find $L(n)$ for any given $n$ and then generate a plot of $L(n)$ for $1\\leq n \\leq 1000$.  Discuss any trends you observe.  You may modify the code I gave in class to accomplish the task or write your own."
   ]
  },
  {
   "cell_type": "code",
   "execution_count": 2,
   "metadata": {},
   "outputs": [],
   "source": [
    "def L(n):\n",
    "    y = []\n",
    "    i = 0\n",
    "    while True:\n",
    "        y.append(n)\n",
    "        i += 1\n",
    "        if n == 1:\n",
    "            break\n",
    "        if n % 2 == 0:\n",
    "            n = n/2\n",
    "        else: \n",
    "            n = 3*n +1\n",
    "    x = np.linspace(0,i,num = i)\n",
    "    plt.plot(x,y)\n",
    "    return i"
   ]
  },
  {
   "cell_type": "code",
   "execution_count": 3,
   "metadata": {},
   "outputs": [
    {
     "name": "stdout",
     "output_type": "stream",
     "text": [
      "112\n"
     ]
    },
    {
     "data": {
      "image/png": "[encoded data removed]",
      "text/plain": [
       "<Figure size 432x288 with 1 Axes>"
      ]
     },
     "metadata": {
      "needs_background": "light"
     },
     "output_type": "display_data"
    }
   ],
   "source": [
    "print(L(1000))"
   ]
  },
  {
   "cell_type": "markdown",
   "metadata": {},
   "source": [
    "**Problem 3 (2 points)**\n",
    "Write a program that plays Rock, Paper, Scissors against a human. \n",
    "\n",
    "*Hint:* The easiest way is to assign numbers to Rock, Paper, and Scissors and use *if else statements*. Feel free to program it in a different way.\n",
    "\n",
    "The following two lines of code may be used to generate random integers between 1 and 3.\n",
    "\n",
    "`import random`\n",
    "\n",
    "`print(random.randint(1,3))`"
   ]
  },
  {
   "cell_type": "code",
   "execution_count": 4,
   "metadata": {},
   "outputs": [
    {
     "name": "stdout",
     "output_type": "stream",
     "text": [
      "Enter a choice (rock, paper, scissors): rock\n",
      "You chose rock computer chose scissors\n",
      "You win\n"
     ]
    }
   ],
   "source": [
    "data = input(\"Enter a choice (rock, paper, scissors): \")\n",
    "rps = [\"rock\", \"paper\", \"scissors\"]\n",
    "cpu = random.choice(rps)\n",
    "print(\"You chose\", data,  \"computer chose\", cpu)\n",
    "if data == cpu:\n",
    "    print(f\"Both players selected {data}. It's a tie\")\n",
    "elif data == \"rock\":\n",
    "    if cpu == \"scissors\":\n",
    "        print(\"You win\")\n",
    "    else:\n",
    "        print(\"You lose\")\n",
    "elif data == \"paper\":\n",
    "    if cpu == \"rock\":\n",
    "        print(\"You win\")\n",
    "    else:\n",
    "        print(\"You lose\")\n",
    "elif data == \"scissors\":\n",
    "    if cpu == \"paper\":\n",
    "        print(\"You win\")\n",
    "    else:\n",
    "        print(\"You lose\")"
   ]
  },
  {
   "cell_type": "markdown",
   "metadata": {},
   "source": [
    "**Problem 4 (3 points)**\n",
    "\n",
    "a) A sequence {$a_n$} is defined recursively by the equations:\n",
    "\n",
    "$$a_0 = a_1 = 1$$\n",
    "\n",
    "$$n(n-1)a_n = (n-1)(n-2)a_{n-1} - (n-3)a_{n-2}.$$\n",
    "\n",
    "Write a program to determine the following sum:\n",
    "\n",
    "$$\\sum_{n=0}^{1001} a_n$$\n",
    "\n",
    "b) Run your code and provide the answer for (4a)"
   ]
  },
  {
   "cell_type": "code",
   "execution_count": 5,
   "metadata": {},
   "outputs": [
    {
     "name": "stdout",
     "output_type": "stream",
     "text": [
      "nan\n"
     ]
    }
   ],
   "source": [
    "i = 0\n",
    "xs = []\n",
    "z = y = x = w = 0\n",
    "while i < 1001:\n",
    "    if i < 2:\n",
    "        xs.append(1)\n",
    "    else:\n",
    "        z = i-1 \n",
    "        y = i-2\n",
    "        x = i-3\n",
    "        w = (z*y*xs[z] - x*xs[y])/i*z\n",
    "        xs.append(w)\n",
    "    i += 1\n",
    "i=0\n",
    "for j in xs:\n",
    "    i = j+i\n",
    "print(i)\n",
    "#the number rapidly becomes too big to print, prints \"nan\""
   ]
  }
 ],
 "metadata": {
  "kernelspec": {
   "display_name": "Python 3",
   "language": "python",
   "name": "python3"
  },
  "language_info": {
   "codemirror_mode": {
    "name": "ipython",
    "version": 3
   },
   "file_extension": ".py",
   "mimetype": "text/x-python",
   "name": "python",
   "nbconvert_exporter": "python",
   "pygments_lexer": "ipython3",
   "version": "3.9.1"
  }
 },
 "nbformat": 4,
 "nbformat_minor": 2
}
