{
 "cells": [
  {
   "cell_type": "markdown",
   "metadata": {},
   "source": [
    "## Assignment9_LastName_FirstName \n",
    "## Due date: Friday, March 26 at 11:59pm\n",
    "\n",
    "###  Use the following format for homework filename:  \n",
    "\n",
    "`Assignment9_LastName_FirstName.ipynb`\n",
    "\n",
    "\n",
    "#### - This assignment is worth 26 points."
   ]
  },
  {
   "cell_type": "code",
   "execution_count": 1,
   "metadata": {},
   "outputs": [],
   "source": [
    "import numpy as np\n",
    "import math\n",
    "import matplotlib.pyplot as plt\n",
    "import scipy.integrate as spqd\n",
    "%matplotlib inline"
   ]
  },
  {
   "cell_type": "markdown",
   "metadata": {},
   "source": [
    "**Problem 1**  (2 points) Write a program that uses the bisection method to solve the nonlinear equation $$ x = e^{-x}. $$ Choose your own initial interval."
   ]
  },
  {
   "cell_type": "code",
   "execution_count": 2,
   "metadata": {},
   "outputs": [],
   "source": [
    "#Solution for Problem1\n",
    "def func(x):\n",
    "    return x*math.exp(x)-1\n",
    "\n",
    "def bis(a,b,func):\n",
    "    if (func(a) * func(b) >= 0):\n",
    "        print(\"choose new a and b\")\n",
    "        return None\n",
    "    c = a\n",
    "    while ((b-a) >= 0.001):\n",
    "        c = (a+b)/2\n",
    "        if (func(c) == 0.0):\n",
    "            break\n",
    "        if (func(c)*func(a) < 0):\n",
    "            b = c\n",
    "        else:\n",
    "            a = c\n",
    "    return c"
   ]
  },
  {
   "cell_type": "code",
   "execution_count": 3,
   "metadata": {},
   "outputs": [
    {
     "name": "stdout",
     "output_type": "stream",
     "text": [
      "0.566864013671875\n"
     ]
    }
   ],
   "source": [
    "a =-100\n",
    "b = 100\n",
    "print(bis(a, b,func))"
   ]
  },
  {
   "cell_type": "markdown",
   "metadata": {},
   "source": [
    "**Problem 2** (2 points)\n",
    "\n",
    "Write a program that uses the Newton method to find the roots of the following functions on the interval $-2\\pi \\leq x \\leq 2\\pi$.\n",
    "\n",
    "$$f(x) = x \\cos(x) − \\sin(x) \\quad\\text{ and }\\quad g(x) = (x^3 − x) \\sin(x).$$ \n",
    "\n",
    "These should be done as two separate calculations.\n"
   ]
  },
  {
   "cell_type": "code",
   "execution_count": 4,
   "metadata": {},
   "outputs": [],
   "source": [
    "#Solution for Problem 2\n",
    "def fn(x):\n",
    "    return x*np.cos(x)-np.sin(x)\n",
    "\n",
    "def gn(x):\n",
    "    return ((x**3)-x)*np.sin(x)\n",
    "\n",
    "def fp(x):\n",
    "    return -x*np.sin(x)\n",
    "\n",
    "def gp(x):\n",
    "    return (((3*x**2)-1)*np.sin(x))+(x*((x**2)-1)*np.cos(x))\n",
    "\n",
    "def Newtons(fn,fp,x):\n",
    "    h = fn(x) / fp(x)\n",
    "    while abs(h) >= 0.0001:\n",
    "        h = fn(x)/fp(x)\n",
    "        x = x - h\n",
    "    print('F(x):',x)"
   ]
  },
  {
   "cell_type": "code",
   "execution_count": 5,
   "metadata": {},
   "outputs": [
    {
     "name": "stdout",
     "output_type": "stream",
     "text": [
      "F(x): -20.371302959322573\n",
      "F(x): -18.849555921538784\n"
     ]
    }
   ],
   "source": [
    "x0 = -20\n",
    "Newtons(fn,fp,x0)\n",
    "Newtons(gn,gp,x0)"
   ]
  },
  {
   "cell_type": "markdown",
   "metadata": {},
   "source": [
    "**Problem 3** (2 points) Compute a root of the function $$f(x) = x^2 - 2$$ \n",
    "- using the _secant method_ with initial guess $x_0 = 1.5$ and $x_1=1$.\n",
    "- Choose a different initial guess and compute another root of the function $f(x)$."
   ]
  },
  {
   "cell_type": "code",
   "execution_count": 6,
   "metadata": {},
   "outputs": [],
   "source": [
    "#solution for problem 3\n",
    "def f(x):\n",
    "    return (x**2)-2\n",
    "  \n",
    "def secant(x1, x2, e, f):\n",
    "    n = xm = x0 = c = 0\n",
    "    if (f(x1) * f(x2) < 0):\n",
    "        while True:\n",
    "            x0 = ((x1 * f(x2) - x2 * f(x1)) / (f(x2) - f(x1)))\n",
    "            c = f(x1) * f(x0)\n",
    "            x1 = x2\n",
    "            x2 = x0\n",
    "            n += 1\n",
    "            if (c == 0):\n",
    "                break\n",
    "            xm = ((x1 * f(x2) - x2 * f(x1)) / (f(x2) - f(x1))) \n",
    "            if(abs(xm - x0) < e):\n",
    "                break\n",
    "        print(x0) \n",
    "    else:\n",
    "        print(\"No roots in the interval\")"
   ]
  },
  {
   "cell_type": "code",
   "execution_count": 7,
   "metadata": {},
   "outputs": [
    {
     "name": "stdout",
     "output_type": "stream",
     "text": [
      "1.4142011834319526\n"
     ]
    }
   ],
   "source": [
    "x0 = 1.5\n",
    "x1 = 1\n",
    "e = 0.0001\n",
    "secant(x0, x1, e, f)"
   ]
  },
  {
   "cell_type": "markdown",
   "metadata": {},
   "source": [
    "**Problem 4**: (4 points) - Here is a cubic polynomial with three closely spaced real roots:\n",
    "\n",
    "$$\n",
    "p(x) = 580x^4 - 2320x^3 -1160x^2 + 6960x -1740\n",
    "$$\n",
    "\n",
    "* What are the exact roots of p?\n",
    "* Plot $p(x)$ for $-2\\leq x \\leq 4$.  And plot the location of the four roots on the graph.  \n",
    "* Starting with $x_{0}=2$, what does Newton's method do?\n",
    "* Starting with $x_{0}=0.3$ and $x_{1}=0.9$, what does the secant method do?\n",
    "* Starting with the interval $[0.5,2.9]$, what does bisection do?"
   ]
  },
  {
   "cell_type": "code",
   "execution_count": 8,
   "metadata": {},
   "outputs": [
    {
     "name": "stdout",
     "output_type": "stream",
     "text": [
      "roots are: [ 3.73205081 -1.73205081  1.73205081  0.26794919]\n",
      "there are 4 roots, as this is not a cubic polynomial it has x^4\n"
     ]
    },
    {
     "data": {
      "text/plain": [
       "[<matplotlib.lines.Line2D at 0x2232a3b67c0>]"
      ]
     },
     "execution_count": 8,
     "metadata": {},
     "output_type": "execute_result"
    },
    {
     "data": {
      "image/png": "[encoded data removed]",
      "text/plain": [
       "<Figure size 432x288 with 1 Axes>"
      ]
     },
     "metadata": {
      "needs_background": "light"
     },
     "output_type": "display_data"
    }
   ],
   "source": [
    "coe = [580, -2320, -1160, 6960, -1740]\n",
    "print('roots are:',np.roots(coe))\n",
    "print('there are 4 roots, as this is not a cubic polynomial it has x^4')\n",
    "xs = np.linspace(-2,4,250)\n",
    "ys = []\n",
    "for i in xs:\n",
    "    ys.append((580*i**4)-(2320*i**3)-(1160*i**2)+(6960*i)-1740)\n",
    "plt.plot(xs,ys)\n",
    "plt.plot(3.73205,0,'go') \n",
    "plt.plot(-1.73205,0,'ro') \n",
    "plt.plot(1.73205,0,'bo') \n",
    "plt.plot(.267949,0,'co') "
   ]
  },
  {
   "cell_type": "code",
   "execution_count": 9,
   "metadata": {},
   "outputs": [
    {
     "name": "stdout",
     "output_type": "stream",
     "text": [
      "F(x): 1.7320508075688774\n"
     ]
    }
   ],
   "source": [
    "def pn(x):\n",
    "    return (580*x**4)-(2320*x**3)-(1160*x**2)+(6960*x)-1740\n",
    "def pp(x):\n",
    "    return ((2320*x**3)-(6960*x**2)-2320*x+6960)\n",
    "Newtons(pn,pp,2)"
   ]
  },
  {
   "cell_type": "code",
   "execution_count": 10,
   "metadata": {},
   "outputs": [
    {
     "name": "stdout",
     "output_type": "stream",
     "text": [
      "No roots in the interval\n"
     ]
    }
   ],
   "source": [
    "secant(.3, .9, e, pn)"
   ]
  },
  {
   "cell_type": "code",
   "execution_count": 11,
   "metadata": {},
   "outputs": [
    {
     "name": "stdout",
     "output_type": "stream",
     "text": [
      "1.7322265624999997\n"
     ]
    }
   ],
   "source": [
    "print(bis(.5, 2.9, pn))"
   ]
  },
  {
   "cell_type": "markdown",
   "metadata": {},
   "source": [
    "**Problem 5**: (4 points) In many cases, getting convergence rates via pen and paper is tricky.  However, we can often readily find them via numerical simulation.  \n",
    "\n",
    "a.)  For \n",
    "$$\n",
    "f(x) = x\\cos(x) - \\sin^{2}(x), \n",
    "$$\n",
    "find all the roots on the interval $[0,5]$ using Newton's method with a tolerance of $10^{-6}$.\n",
    "\n",
    "\n",
    "b.)  For each root, establish that the rate of convergence is quadratic.  Note, to do this, you will need to save the various points generated by Newton's method in an array.  You will need to find the fixed point.  Then, you should note that if \n",
    "$$\n",
    "\\lim_{n\\rightarrow \\infty}\\frac{|x_{n+1}-x_{\\ast}|}{|x_{n}-x_{\\ast}|^{\\alpha}} = \\lambda, \n",
    "$$  \n",
    "then for $n$ large\n",
    "$$\n",
    "\\ln |x_{n+1}-x_{\\ast}| \\sim \\alpha \\ln |x_{n}-x_{\\ast}| + \\ln \\lambda\n",
    "$$\n",
    "So, then you should be thinking about the slope of a line in a log/log plot.  \n",
    "\n",
    "Please provide a well-labeled and well-explained figure describing the rate of convergence for each fixed point.  Does your rate change based on your initial guess?  Again, please elaborate and show plots to make your case."
   ]
  },
  {
   "cell_type": "code",
   "execution_count": 12,
   "metadata": {},
   "outputs": [],
   "source": [
    "#solution for Problem 5\n",
    "def five(x):\n",
    "    return x*np.cos(x)-(np.sin(x)**2)\n",
    "def fivep(x):\n",
    "    return -x*np.sin(x)+np.cos(x)-(2*np.sin(x)*np.cos(x))"
   ]
  },
  {
   "cell_type": "code",
   "execution_count": 13,
   "metadata": {},
   "outputs": [
    {
     "name": "stdout",
     "output_type": "stream",
     "text": [
      "F(x): 4.909534391393232\n"
     ]
    }
   ],
   "source": [
    "Newtons(five,fivep,5)"
   ]
  },
  {
   "cell_type": "markdown",
   "metadata": {},
   "source": [
    "**Problem 8** (2 points)\n",
    "\n",
    "Use the Trapezoid Method to approximate the Fresnel integral in Problem 3 for $x=1$ such that the error is less than $10^{-5}$.\n",
    "\n",
    "$$f(1) = \\int_{0}^{1} \\sin(t^2) dt.$$"
   ]
  },
  {
   "cell_type": "code",
   "execution_count": 14,
   "metadata": {},
   "outputs": [
    {
     "name": "stdout",
     "output_type": "stream",
     "text": [
      "0.3102773069620939\n"
     ]
    }
   ],
   "source": [
    "#Solution for Problem 8\n",
    "def trap(f, a, b, n):\n",
    "    h = float(b - a) / n\n",
    "    s = 0.0\n",
    "    s += f(a)/2.0\n",
    "    for i in range(1, n):\n",
    "        s += f(a + i*h)\n",
    "    s += f(b)/2.0\n",
    "    return s * h\n",
    "\n",
    "print(trap(lambda x:np.sin(x**2), 0, 1, 100))"
   ]
  }
 ],
 "metadata": {
  "kernelspec": {
   "display_name": "Python 3",
   "language": "python",
   "name": "python3"
  },
  "language_info": {
   "codemirror_mode": {
    "name": "ipython",
    "version": 3
   },
   "file_extension": ".py",
   "mimetype": "text/x-python",
   "name": "python",
   "nbconvert_exporter": "python",
   "pygments_lexer": "ipython3",
   "version": "3.9.1"
  }
 },
 "nbformat": 4,
 "nbformat_minor": 2
}
